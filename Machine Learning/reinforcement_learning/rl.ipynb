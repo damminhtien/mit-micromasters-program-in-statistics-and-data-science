{
 "cells": [
  {
   "cell_type": "code",
   "execution_count": 4,
   "metadata": {},
   "outputs": [
    {
     "name": "stdout",
     "output_type": "stream",
     "text": [
      "[0.00245098 0.00735294 0.04166667 0.24264706 1.41421569]\n"
     ]
    }
   ],
   "source": [
    "def transition_probability(current, action, next_state):\n",
    "    # Edge cases for state 1 (leftmost)\n",
    "    if current == 1:\n",
    "        if action == \"stay\":\n",
    "            return 0.5 if next_state == 1 else 0.5 if next_state == 2 else 0\n",
    "        else:  # move action behaves the same as stay\n",
    "            return 0.5 if next_state == 1 else 0.5 if next_state == 2 else 0\n",
    "    # Edge cases for state 5 (rightmost)\n",
    "    elif current == 5:\n",
    "        if action == \"stay\":\n",
    "            return 0.5 if next_state == 5 else 0.5 if next_state == 4 else 0\n",
    "        else:  # move action behaves the same as stay\n",
    "            return 0.5 if next_state == 5 else 0.5 if next_state == 4 else 0\n",
    "    else:\n",
    "        # Inner states general handling\n",
    "        if action == \"stay\":\n",
    "            if next_state == current:\n",
    "                return 0.5\n",
    "            elif next_state == current - 1 or next_state == current + 1:\n",
    "                return 0.25\n",
    "            else:\n",
    "                return 0\n",
    "        else:  # action \"move\" in inner states\n",
    "            if next_state == current:\n",
    "                return 0.67  # Staying in place due to failure to move\n",
    "            elif (action == \"left\" and next_state == current - 1) or (action == \"right\" and next_state == current + 1):\n",
    "                return 0.33  # Successful movement\n",
    "            else:\n",
    "                return 0\n",
    "\n",
    "def value_iteration(states, gamma, num_iterations):\n",
    "    V = np.zeros(len(states))\n",
    "    for _ in range(num_iterations):\n",
    "        V_new = np.zeros(len(states))\n",
    "        for i, s in enumerate(states):\n",
    "            values = []\n",
    "            for action in [\"stay\", \"move\"]:\n",
    "                value_sum = 0\n",
    "                for j, next_s in enumerate(states):\n",
    "                    trans_prob = transition_probability(s, action, next_s)\n",
    "                    value_sum += trans_prob * (reward(s) + gamma * V[j])\n",
    "                values.append(value_sum)\n",
    "            V_new[i] = max(values)\n",
    "        V = V_new\n",
    "    return V\n",
    "\n",
    "states = [1, 2, 3, 4, 5]\n",
    "gamma = 0.5\n",
    "num_iterations = 100\n",
    "\n",
    "V_100 = value_iteration(states, gamma, num_iterations)\n",
    "print(V_100)\n"
   ]
  }
 ],
 "metadata": {
  "kernelspec": {
   "display_name": "Python 3",
   "language": "python",
   "name": "python3"
  },
  "language_info": {
   "codemirror_mode": {
    "name": "ipython",
    "version": 3
   },
   "file_extension": ".py",
   "mimetype": "text/x-python",
   "name": "python",
   "nbconvert_exporter": "python",
   "pygments_lexer": "ipython3",
   "version": "3.9.6"
  }
 },
 "nbformat": 4,
 "nbformat_minor": 2
}
