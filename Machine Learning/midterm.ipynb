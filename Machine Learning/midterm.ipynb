{
 "cells": [
  {
   "cell_type": "code",
   "execution_count": 5,
   "metadata": {},
   "outputs": [
    {
     "name": "stdout",
     "output_type": "stream",
     "text": [
      "-1.0\n",
      "-10.0\n",
      "-20.0\n",
      "-25.0\n",
      "-34.0\n",
      "-23.0\n",
      "-23.0\n",
      "-20.0\n",
      "-19.0\n",
      "-18.0\n"
     ]
    },
    {
     "data": {
      "text/plain": [
       "(-18.0, [4.0, 4.0])"
      ]
     },
     "execution_count": 5,
     "metadata": {},
     "output_type": "execute_result"
    }
   ],
   "source": [
    "import numpy as np\n",
    "\n",
    "# Initialize parameters\n",
    "theta = np.array([0.0, 0.0])\n",
    "theta_0 = 0.0\n",
    "\n",
    "# Data points and labels\n",
    "data_points = np.array([\n",
    "    [0, 0],\n",
    "    [2, 0],\n",
    "    [3, 0],\n",
    "    [0, 2],\n",
    "    [2, 2],\n",
    "    [5, 1],\n",
    "    [5, 2],\n",
    "    [2, 4],\n",
    "    [4, 4],\n",
    "    [5, 5]\n",
    "])\n",
    "labels = np.array([-1, -1, -1, -1, -1, 1, 1, 1, 1, 1])\n",
    "mistakes = [1, 9, 10, 5, 9, 11, 0, 3, 1, 1]\n",
    "\n",
    "# Run perceptron algorithm\n",
    "for i in range(len(data_points)):\n",
    "    for _ in range(mistakes[i]):\n",
    "        x_i = data_points[i]\n",
    "        y_i = labels[i]\n",
    "        # if y_i * (np.dot(theta, x_i) + theta_0) <= 0:\n",
    "        theta += y_i * x_i\n",
    "        theta_0 += y_i\n",
    "    print(theta_0)\n",
    "\n",
    "# Results\n",
    "theta_0, theta.tolist()\n"
   ]
  },
  {
   "cell_type": "code",
   "execution_count": 11,
   "metadata": {},
   "outputs": [
    {
     "data": {
      "text/plain": [
       "(array([0.9996875, 1.       ]), -4.999062500000003)"
      ]
     },
     "execution_count": 11,
     "metadata": {},
     "output_type": "execute_result"
    }
   ],
   "source": [
    "from sklearn.svm import SVC\n",
    "import numpy as np\n",
    "\n",
    "# Define the data points and labels\n",
    "X = np.array([[0,0], [2,0], [3,0], [0,2], [2,2], [5,1], [5,2], [2,4], [4,4], [5,5]])\n",
    "y = np.array([-1, -1, -1, -1, -1, 1, 1, 1, 1, 1])\n",
    "\n",
    "# Create an SVM classifier with a linear kernel\n",
    "svm = SVC(kernel='linear', C=1e5)  # Large C for hard margin\n",
    "svm.fit(X, y)\n",
    "\n",
    "# Extract the parameters\n",
    "theta = svm.coef_[0]\n",
    "theta_0 = svm.intercept_[0]\n",
    "\n",
    "theta, theta_0\n"
   ]
  },
  {
   "cell_type": "code",
   "execution_count": null,
   "metadata": {},
   "outputs": [],
   "source": []
  }
 ],
 "metadata": {
  "kernelspec": {
   "display_name": "Python 3",
   "language": "python",
   "name": "python3"
  },
  "language_info": {
   "codemirror_mode": {
    "name": "ipython",
    "version": 3
   },
   "file_extension": ".py",
   "mimetype": "text/x-python",
   "name": "python",
   "nbconvert_exporter": "python",
   "pygments_lexer": "ipython3",
   "version": "3.9.6"
  }
 },
 "nbformat": 4,
 "nbformat_minor": 2
}
