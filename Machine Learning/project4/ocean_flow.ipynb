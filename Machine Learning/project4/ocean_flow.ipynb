{
 "cells": [
  {
   "cell_type": "code",
   "execution_count": 1,
   "metadata": {},
   "outputs": [],
   "source": [
    "import numpy as np\n",
    "import pandas as pd\n",
    "import os\n",
    "import glob"
   ]
  },
  {
   "cell_type": "code",
   "execution_count": 2,
   "metadata": {},
   "outputs": [],
   "source": [
    "# Assuming the dataset has been extracted and the path is set accordingly\n",
    "data_path = '../release_gp_homework_data/OceanFlow/'\n",
    "\n",
    "# Initialize lists to hold the magnitudes for each time step\n",
    "us = []\n",
    "vs = []\n",
    "magnitudes = []\n",
    "\n",
    "# Load all the time steps (from 1 to 100)\n",
    "for i in range(1, 101):\n",
    "    u_file = os.path.join(data_path, f\"{i}u.csv\")\n",
    "    v_file = os.path.join(data_path, f\"{i}v.csv\")\n",
    "    \n",
    "    u = pd.read_csv(u_file, header=None).values\n",
    "    v = pd.read_csv(v_file, header=None).values\n",
    "    \n",
    "    magnitude = np.sqrt(u**2 + v**2)\n",
    "    us.append(u)\n",
    "    vs.append(v)\n",
    "    magnitudes.append(magnitude)"
   ]
  },
  {
   "cell_type": "code",
   "execution_count": 3,
   "metadata": {},
   "outputs": [
    {
     "data": {
      "text/plain": [
       "(510, 363, 1.2297629738694259e-13)"
      ]
     },
     "execution_count": 3,
     "metadata": {},
     "output_type": "execute_result"
    }
   ],
   "source": [
    "# Stack magnitudes to create a 3D array: (time, y, x)\n",
    "magnitudes = np.array(magnitudes)\n",
    "us = np.array(us)\n",
    "vs = np.array(vs)\n",
    "\n",
    "# Calculate the variance across time for each (y, x) location\n",
    "variance = np.var(magnitudes, axis=0)\n",
    "\n",
    "# Filter out locations with zero variance\n",
    "variance[variance == 0] = np.nan\n",
    "\n",
    "# Find the index of the minimum non-zero variance\n",
    "min_variance_index = np.nanargmin(variance)\n",
    "min_variance_value = np.nanmin(variance)\n",
    "\n",
    "# Convert the flat index back to 2D indices (y, x)\n",
    "min_y, min_x = np.unravel_index(min_variance_index, variance.shape)\n",
    "\n",
    "# Convert to kilometers\n",
    "min_x_km = min_x * 3\n",
    "min_y_km = min_y * 3\n",
    "\n",
    "(min_x_km, min_y_km, min_variance_value)\n"
   ]
  },
  {
   "cell_type": "code",
   "execution_count": 4,
   "metadata": {},
   "outputs": [
    {
     "data": {
      "text/plain": [
       "(100, 504, 555)"
      ]
     },
     "execution_count": 4,
     "metadata": {},
     "output_type": "execute_result"
    }
   ],
   "source": [
    "magnitudes.shape"
   ]
  },
  {
   "cell_type": "code",
   "execution_count": 5,
   "metadata": {},
   "outputs": [
    {
     "data": {
      "text/plain": [
       "(504, 555)"
      ]
     },
     "execution_count": 5,
     "metadata": {},
     "output_type": "execute_result"
    }
   ],
   "source": [
    "variance.shape"
   ]
  },
  {
   "cell_type": "code",
   "execution_count": 11,
   "metadata": {},
   "outputs": [
    {
     "data": {
      "text/plain": [
       "(84, 1041, 543)"
      ]
     },
     "execution_count": 11,
     "metadata": {},
     "output_type": "execute_result"
    }
   ],
   "source": [
    "# Initialize variables to track the maximum value and its location\n",
    "max_u_value = -np.inf\n",
    "max_time_index = None\n",
    "max_y_index = None\n",
    "max_x_index = None\n",
    "\n",
    "# Iterate through all time steps\n",
    "i = 0\n",
    "for u in us:\n",
    "    # Find the maximum value in this u array\n",
    "    current_max = np.max(u)\n",
    "    \n",
    "    if current_max > max_u_value:\n",
    "        max_u_value = current_max\n",
    "        max_time_index = i\n",
    "        max_y_index, max_x_index = np.unravel_index(np.argmax(u), u.shape)\n",
    "    \n",
    "    i+=1\n",
    "\n",
    "# Convert the indices to kilometers and hours\n",
    "max_time_hours = max_time_index * 3\n",
    "max_x_km = max_x_index * 3\n",
    "max_y_km = max_y_index * 3\n",
    "\n",
    "(max_time_hours, max_x_km, max_y_km)\n"
   ]
  },
  {
   "cell_type": "code",
   "execution_count": 14,
   "metadata": {},
   "outputs": [
    {
     "data": {
      "text/plain": [
       "(-0.09366228934616819, -0.035483887388106795)"
      ]
     },
     "execution_count": 14,
     "metadata": {},
     "output_type": "execute_result"
    }
   ],
   "source": [
    "# Initialize accumulators for the sum of u and v components\n",
    "u_sum = 0.0\n",
    "v_sum = 0.0\n",
    "total_points = 0\n",
    "\n",
    "# Iterate through all time steps\n",
    "for i in range(len(us)):\n",
    "    u = us[i]\n",
    "    v = vs[i]\n",
    "    # Accumulate the sums\n",
    "    u_sum += np.sum(u)\n",
    "    v_sum += np.sum(v)\n",
    "    \n",
    "    # Count total points (assumes all u and v files have the same dimensions)\n",
    "    total_points += u.size\n",
    "\n",
    "# Compute the average\n",
    "u_avg = u_sum / total_points\n",
    "v_avg = v_sum / total_points\n",
    "\n",
    "(u_avg, v_avg)\n"
   ]
  }
 ],
 "metadata": {
  "kernelspec": {
   "display_name": "Python 3",
   "language": "python",
   "name": "python3"
  },
  "language_info": {
   "codemirror_mode": {
    "name": "ipython",
    "version": 3
   },
   "file_extension": ".py",
   "mimetype": "text/x-python",
   "name": "python",
   "nbconvert_exporter": "python",
   "pygments_lexer": "ipython3",
   "version": "3.10.12"
  }
 },
 "nbformat": 4,
 "nbformat_minor": 2
}
