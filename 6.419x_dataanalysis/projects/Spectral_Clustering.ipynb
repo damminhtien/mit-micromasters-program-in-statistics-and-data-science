{
 "cells": [
  {
   "cell_type": "markdown",
   "metadata": {},
   "source": [
    "# minimum spanning tree"
   ]
  },
  {
   "cell_type": "code",
   "execution_count": 1,
   "metadata": {},
   "outputs": [
    {
     "name": "stdout",
     "output_type": "stream",
     "text": [
      "11\n"
     ]
    }
   ],
   "source": [
    "import networkx as nx\n",
    "\n",
    "# Define the distance matrix as an adjacency matrix in a graph\n",
    "D = [\n",
    "    [0, 3, 7, 5],\n",
    "    [3, 0, 5, 7],\n",
    "    [7, 5, 0, 3],\n",
    "    [5, 7, 3, 0]\n",
    "]\n",
    "\n",
    "# Create a graph from the distance matrix\n",
    "G = nx.Graph()\n",
    "nodes = range(4)\n",
    "for i in nodes:\n",
    "    for j in nodes:\n",
    "        if i < j:  # To avoid duplicate edges since the matrix is symmetric\n",
    "            G.add_edge(i, j, weight=D[i][j])\n",
    "\n",
    "# Compute the minimum spanning tree\n",
    "mst = nx.minimum_spanning_tree(G)\n",
    "mst_weight = sum(edge[2]['weight'] for edge in mst.edges(data=True))\n",
    "print(mst_weight)"
   ]
  },
  {
   "cell_type": "markdown",
   "metadata": {},
   "source": [
    "# find steiner_tree"
   ]
  },
  {
   "cell_type": "code",
   "execution_count": 2,
   "metadata": {},
   "outputs": [
    {
     "name": "stdout",
     "output_type": "stream",
     "text": [
      "Edges in the Steiner tree:\n",
      "0 -- 1 (weight 3)\n",
      "0 -- 3 (weight 5)\n",
      "3 -- 2 (weight 3)\n",
      "Total weight of the Steiner tree: 11\n"
     ]
    },
    {
     "name": "stderr",
     "output_type": "stream",
     "text": [
      "/Users/macbook/Library/Python/3.9/lib/python/site-packages/networkx/utils/decorators.py:770: FutureWarning: steiner_tree will change default method from 'kou' to 'mehlhorn' in version 3.2.\n",
      "Set the `method` kwarg to remove this warning.\n",
      "  return argmap._lazy_compile(__wrapper)(*args, **kwargs)\n"
     ]
    }
   ],
   "source": [
    "import networkx as nx\n",
    "from networkx.algorithms.approximation import steiner_tree\n",
    "\n",
    "# Define the adjacency matrix\n",
    "A = [\n",
    "    [0, 3, 0, 5, 2, 0],\n",
    "    [3, 0, 5, 0, 2, 0],\n",
    "    [0, 5, 0, 3, 0, 2],\n",
    "    [5, 0, 3, 0, 0, 2],\n",
    "    [2, 2, 0, 0, 0, 2],\n",
    "    [0, 0, 2, 2, 2, 0]\n",
    "]\n",
    "\n",
    "# Create a graph from the adjacency matrix\n",
    "G = nx.Graph()\n",
    "n = len(A)\n",
    "for i in range(n):\n",
    "    for j in range(i + 1, n):\n",
    "        if A[i][j] != 0:\n",
    "            G.add_edge(i, j, weight=A[i][j])\n",
    "\n",
    "# Define the set of terminal nodes\n",
    "terminals = {0, 1, 2, 3}\n",
    "\n",
    "# Compute the Steiner tree\n",
    "S = steiner_tree(G, terminals, weight='weight')\n",
    "\n",
    "# Print the edges of the Steiner tree\n",
    "print(\"Edges in the Steiner tree:\")\n",
    "for u, v, data in S.edges(data=True):\n",
    "    print(f\"{u} -- {v} (weight {data['weight']})\")\n",
    "\n",
    "# Compute the total weight of the Steiner tree\n",
    "total_weight = sum(data['weight'] for u, v, data in S.edges(data=True))\n",
    "print(f\"Total weight of the Steiner tree: {total_weight}\")\n"
   ]
  },
  {
   "cell_type": "code",
   "execution_count": 6,
   "metadata": {},
   "outputs": [
    {
     "name": "stdout",
     "output_type": "stream",
     "text": [
      "Fiedler vector (rounded): [-0.35355, -0.31398, -0.31398, -0.25, 0.08413, 0.35355, 0.54383, 0.43301]\n"
     ]
    }
   ],
   "source": [
    "import networkx as nx\n",
    "\n",
    "# Create the kite graph\n",
    "G = nx.Graph()\n",
    "G.add_edges_from([(1, 2), (1, 4), (2, 3), (4, 3), (3, 5), (5, 6), (6, 7), (7, 8)])\n",
    "\n",
    "# Compute the Fiedler vector\n",
    "fiedler_vector = nx.linalg.algebraicconnectivity.fiedler_vector(G, normalized=True)\n",
    "\n",
    "# Round the values to three significant figures\n",
    "rounded_vector = [round(val, 5) for val in fiedler_vector]\n",
    "\n",
    "print(\"Fiedler vector (rounded):\", rounded_vector)\n"
   ]
  },
  {
   "cell_type": "code",
   "execution_count": 2,
   "metadata": {},
   "outputs": [
    {
     "data": {
      "text/plain": [
       "array([-0.354, -0.314, -0.25 , -0.314,  0.084,  0.354,  0.544,  0.433])"
      ]
     },
     "execution_count": 2,
     "metadata": {},
     "output_type": "execute_result"
    }
   ],
   "source": [
    "import numpy as np\n",
    "import networkx as nx\n",
    "\n",
    "# Define the adjacency matrix\n",
    "A = np.array([[0, 1, 0, 1, 0, 0, 0, 0], \n",
    "              [1, 0, 1, 0, 0, 0, 0, 0], \n",
    "              [0, 1, 0, 1, 1, 0, 0, 0], \n",
    "              [1, 0, 1, 0, 0, 0, 0, 0], \n",
    "              [0, 0, 1, 0, 0, 1, 0, 0], \n",
    "              [0, 0, 0, 0, 1, 0, 1, 0], \n",
    "              [0, 0, 0, 0, 0, 1, 0, 1], \n",
    "              [0, 0, 0, 0, 0, 0, 1, 0]])\n",
    "\n",
    "# Create a graph from the adjacency matrix\n",
    "G = nx.from_numpy_array(A, create_using=nx.Graph)\n",
    "\n",
    "# Compute the Fiedler vector\n",
    "fiedler_vector = nx.linalg.algebraicconnectivity.fiedler_vector(G, normalized=True)\n",
    "\n",
    "# Normalize the Fiedler vector\n",
    "fiedler_vector_normalized = fiedler_vector / np.sqrt(np.sum(fiedler_vector**2))\n",
    "\n",
    "# Round the values to three significant figures\n",
    "fiedler_vector_rounded = np.round(fiedler_vector_normalized, 3)\n",
    "\n",
    "fiedler_vector_rounded\n"
   ]
  }
 ],
 "metadata": {
  "kernelspec": {
   "display_name": "Python 3",
   "language": "python",
   "name": "python3"
  },
  "language_info": {
   "codemirror_mode": {
    "name": "ipython",
    "version": 3
   },
   "file_extension": ".py",
   "mimetype": "text/x-python",
   "name": "python",
   "nbconvert_exporter": "python",
   "pygments_lexer": "ipython3",
   "version": "3.9.6"
  }
 },
 "nbformat": 4,
 "nbformat_minor": 2
}
