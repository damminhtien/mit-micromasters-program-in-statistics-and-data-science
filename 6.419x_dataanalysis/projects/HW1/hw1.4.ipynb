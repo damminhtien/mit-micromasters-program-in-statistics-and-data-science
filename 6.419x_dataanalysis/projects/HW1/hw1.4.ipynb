{
 "cells": [
  {
   "cell_type": "code",
   "execution_count": 1,
   "metadata": {},
   "outputs": [],
   "source": [
    "import numpy as np\n",
    "import pandas as pd\n",
    "from scipy.stats import ttest_ind\n",
    "from statsmodels.stats.multitest import multipletests\n",
    "\n",
    "golub_data, golub_classnames = ( np.genfromtxt('data_and_materials/golub_data/{}'.format(fname), delimiter=',', names=True, converters={0: lambda s: int(s.strip(b'\"'))}) for fname in ['golub.csv', 'golub_cl.csv'] )\n",
    "golub_gnames = pd.read_csv('./data_and_materials/golub_data/golub_gnames.csv')"
   ]
  },
  {
   "cell_type": "code",
   "execution_count": 6,
   "metadata": {},
   "outputs": [
    {
     "data": {
      "text/plain": [
       "(3051,)"
      ]
     },
     "execution_count": 6,
     "metadata": {},
     "output_type": "execute_result"
    }
   ],
   "source": [
    "golub_data.shape"
   ]
  },
  {
   "cell_type": "code",
   "execution_count": 7,
   "metadata": {},
   "outputs": [
    {
     "data": {
      "text/plain": [
       "(38,)"
      ]
     },
     "execution_count": 7,
     "metadata": {},
     "output_type": "execute_result"
    }
   ],
   "source": [
    "golub_classnames.shape"
   ]
  },
  {
   "cell_type": "code",
   "execution_count": 8,
   "metadata": {},
   "outputs": [
    {
     "data": {
      "text/plain": [
       "(3051, 4)"
      ]
     },
     "execution_count": 8,
     "metadata": {},
     "output_type": "execute_result"
    }
   ],
   "source": [
    "golub_gnames.shape"
   ]
  },
  {
   "cell_type": "code",
   "execution_count": 9,
   "metadata": {},
   "outputs": [
    {
     "ename": "TypeError",
     "evalue": "Cannot compare structured or void to non-void arrays.",
     "output_type": "error",
     "traceback": [
      "\u001b[0;31m---------------------------------------------------------------------------\u001b[0m",
      "\u001b[0;31mTypeError\u001b[0m                                 Traceback (most recent call last)",
      "Cell \u001b[0;32mIn[9], line 2\u001b[0m\n\u001b[1;32m      1\u001b[0m \u001b[38;5;66;03m# Separate the data based on tumor class labels\u001b[39;00m\n\u001b[0;32m----> 2\u001b[0m ALL_data \u001b[38;5;241m=\u001b[39m golub_data[:, \u001b[43mgolub_classnames\u001b[49m\u001b[43m \u001b[49m\u001b[38;5;241;43m==\u001b[39;49m\u001b[43m \u001b[49m\u001b[38;5;241;43m0\u001b[39;49m]\n\u001b[1;32m      3\u001b[0m AML_data \u001b[38;5;241m=\u001b[39m golub_data[:, golub_classnames \u001b[38;5;241m==\u001b[39m \u001b[38;5;241m1\u001b[39m]\n\u001b[1;32m      5\u001b[0m \u001b[38;5;66;03m# Perform t-tests for each gene\u001b[39;00m\n",
      "\u001b[0;31mTypeError\u001b[0m: Cannot compare structured or void to non-void arrays."
     ]
    }
   ],
   "source": [
    "# Separate the data based on tumor class labels\n",
    "ALL_data = golub_data[:, golub_classnames == 0]\n",
    "AML_data = golub_data[:, golub_classnames == 1]\n",
    "\n",
    "# Perform t-tests for each gene\n",
    "p_values = np.array([ttest_ind(ALL_data[i, :], AML_data[i, :])[1] for i in range(golub_data.shape[0])])\n",
    "\n",
    "# Apply multiple hypothesis testing corrections\n",
    "# Holm-Bonferroni correction\n",
    "_, p_holm_bonferroni, _, _ = multipletests(p_values, method='holm')\n",
    "\n",
    "# Benjamini-Hochberg correction\n",
    "_, p_bh, _, _ = multipletests(p_values, method='fdr_bh')\n",
    "\n",
    "# Count significant genes\n",
    "alpha = 0.05\n",
    "num_significant_uncorrected = np.sum(p_values < alpha)\n",
    "num_significant_holm_bonferroni = np.sum(p_holm_bonferroni < alpha)\n",
    "num_significant_bh = np.sum(p_bh < alpha)\n",
    "\n",
    "(num_significant_uncorrected, num_significant_holm_bonferroni, num_significant_bh)\n"
   ]
  }
 ],
 "metadata": {
  "kernelspec": {
   "display_name": "Python 3",
   "language": "python",
   "name": "python3"
  },
  "language_info": {
   "codemirror_mode": {
    "name": "ipython",
    "version": 3
   },
   "file_extension": ".py",
   "mimetype": "text/x-python",
   "name": "python",
   "nbconvert_exporter": "python",
   "pygments_lexer": "ipython3",
   "version": "3.9.6"
  }
 },
 "nbformat": 4,
 "nbformat_minor": 2
}
