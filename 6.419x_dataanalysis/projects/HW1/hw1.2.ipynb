{
 "cells": [
  {
   "cell_type": "code",
   "execution_count": 1,
   "metadata": {},
   "outputs": [
    {
     "data": {
      "text/html": [
       "<div>\n",
       "<style scoped>\n",
       "    .dataframe tbody tr th:only-of-type {\n",
       "        vertical-align: middle;\n",
       "    }\n",
       "\n",
       "    .dataframe tbody tr th {\n",
       "        vertical-align: top;\n",
       "    }\n",
       "\n",
       "    .dataframe thead th {\n",
       "        text-align: right;\n",
       "    }\n",
       "</style>\n",
       "<table border=\"1\" class=\"dataframe\">\n",
       "  <thead>\n",
       "    <tr style=\"text-align: right;\">\n",
       "      <th></th>\n",
       "      <th>seconds</th>\n",
       "      <th>count</th>\n",
       "    </tr>\n",
       "  </thead>\n",
       "  <tbody>\n",
       "    <tr>\n",
       "      <th>0</th>\n",
       "      <td>116.0</td>\n",
       "      <td>0.0</td>\n",
       "    </tr>\n",
       "    <tr>\n",
       "      <th>1</th>\n",
       "      <td>112.0</td>\n",
       "      <td>0.0</td>\n",
       "    </tr>\n",
       "    <tr>\n",
       "      <th>2</th>\n",
       "      <td>160.0</td>\n",
       "      <td>0.0</td>\n",
       "    </tr>\n",
       "    <tr>\n",
       "      <th>3</th>\n",
       "      <td>51.5</td>\n",
       "      <td>0.0</td>\n",
       "    </tr>\n",
       "    <tr>\n",
       "      <th>4</th>\n",
       "      <td>102.0</td>\n",
       "      <td>1.0</td>\n",
       "    </tr>\n",
       "  </tbody>\n",
       "</table>\n",
       "</div>"
      ],
      "text/plain": [
       "   seconds  count\n",
       "0    116.0    0.0\n",
       "1    112.0    0.0\n",
       "2    160.0    0.0\n",
       "3     51.5    0.0\n",
       "4    102.0    1.0"
      ]
     },
     "execution_count": 1,
     "metadata": {},
     "output_type": "execute_result"
    }
   ],
   "source": [
    "import pandas as pd\n",
    "\n",
    "# Load the data\n",
    "data_path = './data_and_materials/gamma-ray.csv'\n",
    "gamma_ray_data = pd.read_csv(data_path)\n",
    "\n",
    "# Display the first few rows of the data to understand its structure\n",
    "gamma_ray_data.head()\n"
   ]
  },
  {
   "cell_type": "code",
   "execution_count": 2,
   "metadata": {},
   "outputs": [
    {
     "data": {
      "text/plain": [
       "(15718.2, 61.0, 0.0038808514969907496)"
      ]
     },
     "execution_count": 2,
     "metadata": {},
     "output_type": "execute_result"
    }
   ],
   "source": [
    "# Calculate total observation time and total number of events\n",
    "total_time = gamma_ray_data['seconds'].sum()\n",
    "total_events = gamma_ray_data['count'].sum()\n",
    "\n",
    "# Estimate the average rate of gamma ray emissions per second\n",
    "lambda_estimate = total_events / total_time\n",
    "\n",
    "total_time, total_events, lambda_estimate"
   ]
  },
  {
   "cell_type": "code",
   "execution_count": 3,
   "metadata": {},
   "outputs": [
    {
     "data": {
      "text/plain": [
       "0.0038808514969907496"
      ]
     },
     "execution_count": 3,
     "metadata": {},
     "output_type": "execute_result"
    }
   ],
   "source": [
    "# Calculate the MLE for lambda\n",
    "lambda_mle = total_events / total_time\n",
    "\n",
    "lambda_mle\n"
   ]
  },
  {
   "cell_type": "code",
   "execution_count": 4,
   "metadata": {},
   "outputs": [
    {
     "data": {
      "text/plain": [
       "123.2252214533618"
      ]
     },
     "execution_count": 4,
     "metadata": {},
     "output_type": "execute_result"
    }
   ],
   "source": [
    "from scipy.stats import chi2\n",
    "\n",
    "# Determine the critical value for the chi-squared distribution with 99 degrees of freedom at the 95th percentile\n",
    "critical_value = chi2.ppf(0.95, df=99)\n",
    "\n",
    "critical_value"
   ]
  },
  {
   "cell_type": "code",
   "execution_count": 10,
   "metadata": {},
   "outputs": [
    {
     "data": {
      "text/plain": [
       "(104.39792131493309, 0.3357666244071094)"
      ]
     },
     "execution_count": 10,
     "metadata": {},
     "output_type": "execute_result"
    }
   ],
   "source": [
    "import numpy as np\n",
    "from scipy.special import gammaln\n",
    "\n",
    "# Define log-likelihood calculation functions\n",
    "def log_likelihood_null(data, lambda_mle):\n",
    "    return np.sum(data['count'] * np.log(lambda_mle * data['seconds'] + 1e-10) - \n",
    "                  lambda_mle * data['seconds'] - \n",
    "                  gammaln(data['count'] + 1))\n",
    "\n",
    "def log_likelihood_alternative(data):\n",
    "    return np.sum(data.apply(lambda row: row['count'] * np.log(row['count'] + 1e-10) - \n",
    "                                        row['count'] - \n",
    "                                        gammaln(row['count'] + 1), axis=1))\n",
    "\n",
    "# Compute log-likelihoods\n",
    "log_likelihood_null_value = log_likelihood_null(gamma_ray_data, lambda_mle)\n",
    "log_likelihood_alternative_value = log_likelihood_alternative(gamma_ray_data)\n",
    "\n",
    "# Compute test statistic\n",
    "test_statistic_final = -2 * (log_likelihood_null_value - log_likelihood_alternative_value)\n",
    "\n",
    "# Compute p-value\n",
    "p_value_final = chi2.sf(test_statistic_final, df=99)\n",
    "\n",
    "test_statistic_final, p_value_final\n"
   ]
  },
  {
   "cell_type": "code",
   "execution_count": null,
   "metadata": {},
   "outputs": [],
   "source": []
  }
 ],
 "metadata": {
  "kernelspec": {
   "display_name": "Python 3",
   "language": "python",
   "name": "python3"
  },
  "language_info": {
   "codemirror_mode": {
    "name": "ipython",
    "version": 3
   },
   "file_extension": ".py",
   "mimetype": "text/x-python",
   "name": "python",
   "nbconvert_exporter": "python",
   "pygments_lexer": "ipython3",
   "version": "3.9.6"
  }
 },
 "nbformat": 4,
 "nbformat_minor": 2
}
