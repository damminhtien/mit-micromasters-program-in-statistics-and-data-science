{
 "cells": [
  {
   "cell_type": "markdown",
   "metadata": {},
   "source": [
    "# eigenvector_centrality"
   ]
  },
  {
   "cell_type": "code",
   "execution_count": 1,
   "metadata": {},
   "outputs": [
    {
     "name": "stdout",
     "output_type": "stream",
     "text": [
      "Node 0: 1.000000\n",
      "Node 1: 0.000001\n",
      "Node 2: 0.000001\n",
      "Node 3: 0.000001\n"
     ]
    },
    {
     "data": {
      "text/plain": [
       "{0: 1, 1: 0, 2: 0, 3: 0}"
      ]
     },
     "execution_count": 1,
     "metadata": {},
     "output_type": "execute_result"
    }
   ],
   "source": [
    "import networkx as nx\n",
    "import numpy as np\n",
    "\n",
    "# Define the adjacency matrix\n",
    "A = np.array([\n",
    "    [1, 0, 0, 0],\n",
    "    [1, 0, 0, 0],\n",
    "    [1, 0, 0, 0],\n",
    "    [1, 0, 0, 0]\n",
    "])\n",
    "\n",
    "# Create a directed graph from the adjacency matrix\n",
    "G = nx.DiGraph(A)\n",
    "\n",
    "# Compute the eigenvector centrality\n",
    "eigenvector_centrality = nx.eigenvector_centrality(G, max_iter=1000, tol=1e-06)\n",
    "\n",
    "# Print the centrality values\n",
    "for node, centrality in eigenvector_centrality.items():\n",
    "    print(f\"Node {node}: {centrality:.6f}\")\n",
    "\n",
    "# Round the results to the nearest integer\n",
    "rounded_centrality = {node: round(centrality) for node, centrality in eigenvector_centrality.items()}\n",
    "rounded_centrality\n"
   ]
  },
  {
   "cell_type": "markdown",
   "metadata": {},
   "source": [
    "# katz_centrality"
   ]
  },
  {
   "cell_type": "code",
   "execution_count": 9,
   "metadata": {},
   "outputs": [
    {
     "name": "stdout",
     "output_type": "stream",
     "text": [
      "Node 0: 0.490292\n",
      "Node 1: 0.362204\n",
      "Node 2: 0.362204\n",
      "Node 3: 0.362204\n",
      "Node 4: 0.362204\n",
      "Node 5: 0.358582\n",
      "Node 6: 0.325984\n"
     ]
    }
   ],
   "source": [
    "import networkx as nx\n",
    "import numpy as np\n",
    "\n",
    "# Define the adjacency matrix\n",
    "A = np.array([\n",
    "    [0, 1, 1, 1, 1, 1, 1],\n",
    "    [1, 0, 1, 0, 0, 0, 0],\n",
    "    [1, 1, 0, 0, 0, 0, 0],\n",
    "    [1, 0, 0, 0, 1, 0, 0],\n",
    "    [1, 0, 0, 1, 0, 0, 0],\n",
    "    [1, 0, 0, 0, 0, 0, 0],\n",
    "    [1, 0, 0, 0, 0, 1, 0]\n",
    "])\n",
    "\n",
    "# Create a directed graph from the adjacency matrix\n",
    "G = nx.DiGraph(A)\n",
    "\n",
    "# Compute the eigenvector centrality\n",
    "katz_centrality = nx.katz_centrality(G, max_iter=1000, tol=1e-06)\n",
    "\n",
    "# Print the centrality values\n",
    "for node, centrality in katz_centrality.items():\n",
    "    print(f\"Node {node}: {centrality:.6f}\")"
   ]
  },
  {
   "cell_type": "code",
   "execution_count": 10,
   "metadata": {},
   "outputs": [
    {
     "name": "stdout",
     "output_type": "stream",
     "text": [
      "Node 0: 0.343045\n",
      "Node 1: 0.121785\n",
      "Node 2: 0.121785\n",
      "Node 3: 0.121785\n",
      "Node 4: 0.121785\n",
      "Node 5: 0.099788\n",
      "Node 6: 0.070026\n"
     ]
    }
   ],
   "source": [
    "import networkx as nx\n",
    "import numpy as np\n",
    "\n",
    "# Define the adjacency matrix\n",
    "A = np.array([\n",
    "    [0, 1, 1, 1, 1, 1, 1],\n",
    "    [1, 0, 1, 0, 0, 0, 0],\n",
    "    [1, 1, 0, 0, 0, 0, 0],\n",
    "    [1, 0, 0, 0, 1, 0, 0],\n",
    "    [1, 0, 0, 1, 0, 0, 0],\n",
    "    [1, 0, 0, 0, 0, 0, 0],\n",
    "    [1, 0, 0, 0, 0, 1, 0]\n",
    "])\n",
    "\n",
    "# Create a directed graph from the adjacency matrix\n",
    "G = nx.DiGraph(A)\n",
    "\n",
    "# Compute the eigenvector centrality\n",
    "pagerank = nx.pagerank(G, max_iter=1000, tol=1e-06)\n",
    "\n",
    "# Print the centrality values\n",
    "for node, centrality in pagerank.items():\n",
    "    print(f\"Node {node}: {centrality:.6f}\")"
   ]
  },
  {
   "cell_type": "code",
   "execution_count": 12,
   "metadata": {},
   "outputs": [
    {
     "data": {
      "text/plain": [
       "({0: 0.25440103615406334,\n",
       "  1: 0.13175928388048821,\n",
       "  2: 0.13175928388048824,\n",
       "  3: 0.13175928388048824,\n",
       "  4: 0.13175928388048824,\n",
       "  5: 0.08680254444349544,\n",
       "  6: 0.13175928388048821},\n",
       " {0: 0.25440103615406345,\n",
       "  1: 0.13175928388048824,\n",
       "  2: 0.13175928388048821,\n",
       "  3: 0.13175928388048827,\n",
       "  4: 0.13175928388048827,\n",
       "  5: 0.13175928388048821,\n",
       "  6: 0.08680254444349556})"
      ]
     },
     "execution_count": 12,
     "metadata": {},
     "output_type": "execute_result"
    }
   ],
   "source": [
    "import networkx as nx\n",
    "import numpy as np\n",
    "\n",
    "# Define the adjacency matrix\n",
    "A = np.array([\n",
    "    [0, 1, 1, 1, 1, 1, 1],\n",
    "    [1, 0, 1, 0, 0, 0, 0],\n",
    "    [1, 1, 0, 0, 0, 0, 0],\n",
    "    [1, 0, 0, 0, 1, 0, 0],\n",
    "    [1, 0, 0, 1, 0, 0, 0],\n",
    "    [1, 0, 0, 0, 0, 0, 0],\n",
    "    [1, 0, 0, 0, 0, 1, 0]\n",
    "])\n",
    "\n",
    "# Create a directed graph from the adjacency matrix\n",
    "G = nx.DiGraph(A)\n",
    "\n",
    "# Compute the eigenvector centrality\n",
    "hits = nx.hits(G, max_iter=1000, tol=1e-06)\n",
    "\n",
    "hits"
   ]
  },
  {
   "cell_type": "code",
   "execution_count": null,
   "metadata": {},
   "outputs": [],
   "source": []
  }
 ],
 "metadata": {
  "kernelspec": {
   "display_name": "Python 3",
   "language": "python",
   "name": "python3"
  },
  "language_info": {
   "codemirror_mode": {
    "name": "ipython",
    "version": 3
   },
   "file_extension": ".py",
   "mimetype": "text/x-python",
   "name": "python",
   "nbconvert_exporter": "python",
   "pygments_lexer": "ipython3",
   "version": "3.9.6"
  }
 },
 "nbformat": 4,
 "nbformat_minor": 2
}
