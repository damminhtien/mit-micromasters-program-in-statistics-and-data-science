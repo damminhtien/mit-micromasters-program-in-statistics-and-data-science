{
 "cells": [
  {
   "cell_type": "code",
   "execution_count": 1,
   "metadata": {},
   "outputs": [
    {
     "name": "stdout",
     "output_type": "stream",
     "text": [
      "For n=1000000 and m=200000:\n",
      "p = 4.000004000004e-07\n",
      "Expected phase: a) Many small connected components.\n",
      "\n",
      "For n=1000000 and m=20000000:\n",
      "p = 4.000004000004e-05\n",
      "Expected phase: c) A single connected component.\n"
     ]
    }
   ],
   "source": [
    "import numpy as np\n",
    "\n",
    "def erdos_renyi_phase(n, m):\n",
    "    # Calculate p\n",
    "    p = m / (n * (n - 1) / 2)\n",
    "    \n",
    "    # Calculate critical values\n",
    "    p1 = 1 / n\n",
    "    p2 = np.log(n) / n\n",
    "    \n",
    "    # Determine the phase\n",
    "    if p < p1:\n",
    "        phase = \"a) Many small connected components.\"\n",
    "    elif p1 <= p < p2:\n",
    "        phase = \"b) Some small components along with a giant connected component.\"\n",
    "    else:\n",
    "        phase = \"c) A single connected component.\"\n",
    "    \n",
    "    return p, phase\n",
    "\n",
    "# Given values\n",
    "n1 = 1 * 10**6\n",
    "m1 = 200 * 10**3\n",
    "\n",
    "n2 = 1 * 10**6\n",
    "m2 = 20 * 10**6\n",
    "\n",
    "# Calculate phase for the first graph\n",
    "p1, phase1 = erdos_renyi_phase(n1, m1)\n",
    "print(f\"For n={n1} and m={m1}:\")\n",
    "print(f\"p = {p1}\")\n",
    "print(f\"Expected phase: {phase1}\")\n",
    "\n",
    "# Calculate phase for the second graph\n",
    "p2, phase2 = erdos_renyi_phase(n2, m2)\n",
    "print(f\"\\nFor n={n2} and m={m2}:\")\n",
    "print(f\"p = {p2}\")\n",
    "print(f\"Expected phase: {phase2}\")\n"
   ]
  }
 ],
 "metadata": {
  "kernelspec": {
   "display_name": "Python 3",
   "language": "python",
   "name": "python3"
  },
  "language_info": {
   "codemirror_mode": {
    "name": "ipython",
    "version": 3
   },
   "file_extension": ".py",
   "mimetype": "text/x-python",
   "name": "python",
   "nbconvert_exporter": "python",
   "pygments_lexer": "ipython3",
   "version": "3.10.12"
  }
 },
 "nbformat": 4,
 "nbformat_minor": 2
}
