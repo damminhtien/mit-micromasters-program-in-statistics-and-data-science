{
 "cells": [
  {
   "cell_type": "code",
   "execution_count": 7,
   "metadata": {},
   "outputs": [],
   "source": [
    "graph = [\n",
    "    [0, 1, 0, 1, 0, 1, 0, 0, 0, 0],\n",
    "    [1, 0, 1, 1, 1, 0, 0, 0, 0, 0],\n",
    "    [0, 1, 0, 0, 0, 0, 0, 0, 0, 0],\n",
    "    [1, 1, 0, 0, 0, 1, 0, 1, 1, 0],\n",
    "    [0, 1, 0, 0, 0, 0, 0, 0, 1, 1],\n",
    "    [1, 0, 0, 1, 0, 0, 0, 0, 0, 0],\n",
    "    [0, 0, 0, 0, 0, 0, 0, 0, 0, 1],\n",
    "    [0, 0, 0, 1, 0, 0, 0, 0, 0, 0],\n",
    "    [0, 0, 0, 1, 1, 0, 0, 0, 0, 1],\n",
    "    [0, 0, 0, 0, 1, 0, 1, 0, 1, 0]\n",
    "]"
   ]
  },
  {
   "cell_type": "code",
   "execution_count": 8,
   "metadata": {},
   "outputs": [
    {
     "data": {
      "text/plain": [
       "True"
      ]
     },
     "execution_count": 8,
     "metadata": {},
     "output_type": "execute_result"
    }
   ],
   "source": [
    "def is_simple_graph(graph):\n",
    "    n_vertices = len(graph)\n",
    "    for i in range(n_vertices):\n",
    "        if graph[i][i] == 1: # has_self_loop\n",
    "            return False\n",
    "    return True\n",
    "\n",
    "is_simple_graph(graph)"
   ]
  },
  {
   "cell_type": "code",
   "execution_count": 9,
   "metadata": {},
   "outputs": [
    {
     "data": {
      "text/plain": [
       "True"
      ]
     },
     "execution_count": 9,
     "metadata": {},
     "output_type": "execute_result"
    }
   ],
   "source": [
    "def is_undirected_graph(graph):\n",
    "    n_vertices = len(graph)\n",
    "    for i in range(n_vertices):\n",
    "        for j in range(n_vertices):\n",
    "            if graph[i][j] != graph[i][j]:\n",
    "                return False\n",
    "    return True\n",
    "\n",
    "is_undirected_graph(graph)"
   ]
  },
  {
   "cell_type": "code",
   "execution_count": 10,
   "metadata": {},
   "outputs": [
    {
     "name": "stdout",
     "output_type": "stream",
     "text": [
      "[0, 1, 3, 5, 7, 8, 4, 9, 6, 2]\n"
     ]
    },
    {
     "data": {
      "text/plain": [
       "True"
      ]
     },
     "execution_count": 10,
     "metadata": {},
     "output_type": "execute_result"
    }
   ],
   "source": [
    "def is_connected_graph_dfs(graph, start_vertex):\n",
    "    n_vertices = len(graph)\n",
    "    visited = [False]*n_vertices\n",
    "    n_visited = 1\n",
    "    s = [start_vertex]\n",
    "    visited[start_vertex] = True\n",
    "    visit_sequence = [start_vertex]\n",
    "    while len(s) > 0:\n",
    "        current_vertex = s.pop()\n",
    "        for i in range(n_vertices):\n",
    "            if visited[i] == True:\n",
    "                continue\n",
    "            else:\n",
    "                if graph[current_vertex][i] == 1:\n",
    "                    visited[i] = True\n",
    "                    s.append(i)\n",
    "                    n_visited += 1\n",
    "                    visit_sequence.append(i)\n",
    "    print(visit_sequence)\n",
    "    if n_visited < n_vertices:\n",
    "        return False\n",
    "    return True\n",
    "\n",
    "is_connected_graph_dfs(graph, 0)"
   ]
  },
  {
   "cell_type": "code",
   "execution_count": 11,
   "metadata": {},
   "outputs": [
    {
     "name": "stdout",
     "output_type": "stream",
     "text": [
      "l=1 : A_l=[[0 1 0 1 0 1 0 0 0 0]\n",
      " [1 0 1 1 1 0 0 0 0 0]\n",
      " [0 1 0 0 0 0 0 0 0 0]\n",
      " [1 1 0 0 0 1 0 1 1 0]\n",
      " [0 1 0 0 0 0 0 0 1 1]\n",
      " [1 0 0 1 0 0 0 0 0 0]\n",
      " [0 0 0 0 0 0 0 0 0 1]\n",
      " [0 0 0 1 0 0 0 0 0 0]\n",
      " [0 0 0 1 1 0 0 0 0 1]\n",
      " [0 0 0 0 1 0 1 0 1 0]]\n",
      "l=2 : A_l=[[3 1 1 2 1 1 0 1 1 0]\n",
      " [1 4 0 1 0 2 0 1 2 1]\n",
      " [1 0 1 1 1 0 0 0 0 0]\n",
      " [2 1 1 5 2 1 0 0 0 1]\n",
      " [1 0 1 2 3 0 1 0 1 1]\n",
      " [1 2 0 1 0 2 0 1 1 0]\n",
      " [0 0 0 0 1 0 1 0 1 0]\n",
      " [1 1 0 0 0 1 0 1 1 0]\n",
      " [1 2 0 0 1 1 1 1 3 1]\n",
      " [0 1 0 1 1 0 0 0 1 3]]\n",
      "l=3 : A_l=[[ 4  7  1  7  2  5  0  2  3  2]\n",
      " [ 7  2  4 10  7  2  1  1  2  2]\n",
      " [ 1  4  0  1  0  2  0  1  2  1]\n",
      " [ 7 10  1  4  2  7  1  5  8  2]\n",
      " [ 2  7  0  2  2  3  1  2  6  5]\n",
      " [ 5  2  2  7  3  2  0  1  1  1]\n",
      " [ 0  1  0  1  1  0  0  0  1  3]\n",
      " [ 2  1  1  5  2  1  0  0  0  1]\n",
      " [ 3  2  2  8  6  1  1  0  2  5]\n",
      " [ 2  2  1  2  5  1  3  1  5  2]]\n",
      "l=4 : A_l=[[19 14  7 21 12 11  2  7 11  5]\n",
      " [14 28  2 14  6 17  2 10 19 10]\n",
      " [ 7  2  4 10  7  2  1  1  2  2]\n",
      " [21 14 10 37 20 11  2  4  8 11]\n",
      " [12  6  7 20 18  4  5  2  9  9]\n",
      " [11 17  2 11  4 12  1  7 11  4]\n",
      " [ 2  2  1  2  5  1  3  1  5  2]\n",
      " [ 7 10  1  4  2  7  1  5  8  2]\n",
      " [11 19  2  8  9 11  5  8 19  9]\n",
      " [ 5 10  2 11  9  4  2  2  9 13]]\n"
     ]
    },
    {
     "data": {
      "text/plain": [
       "4"
      ]
     },
     "execution_count": 11,
     "metadata": {},
     "output_type": "execute_result"
    }
   ],
   "source": [
    "import numpy as np\n",
    "\n",
    "def matrix_power(A, power):\n",
    "        result = np.eye(len(A), dtype=int)\n",
    "        for _ in range(power):\n",
    "            result = np.dot(result, A)\n",
    "        return result\n",
    "\n",
    "def min_l_no_zero_entry(graph):\n",
    "    A = np.array(graph)\n",
    "    n = len(A)\n",
    "    \n",
    "    for l in range(1, n**2 + 1):\n",
    "        A_l = matrix_power(A, l)\n",
    "        print(f'l={l} : A_l={A_l}')\n",
    "        if np.all(A_l > 0):\n",
    "            return l\n",
    "    \n",
    "    return -1\n",
    "\n",
    "min_l_no_zero_entry(graph)"
   ]
  },
  {
   "cell_type": "code",
   "execution_count": 12,
   "metadata": {},
   "outputs": [
    {
     "name": "stdout",
     "output_type": "stream",
     "text": [
      "1\n"
     ]
    }
   ],
   "source": [
    "def count_connected_components(graph):\n",
    "    def dfs(vertex, visited):\n",
    "        stack = [vertex]\n",
    "        while stack:\n",
    "            v = stack.pop()\n",
    "            if not visited[v]:\n",
    "                visited[v] = True\n",
    "                for i, is_connected in enumerate(graph[v]):\n",
    "                    if is_connected and not visited[i]:\n",
    "                        stack.append(i)\n",
    "\n",
    "    num_vertices = len(graph)\n",
    "    visited = [False] * num_vertices\n",
    "    connected_components = 0\n",
    "\n",
    "    for v in range(num_vertices):\n",
    "        if not visited[v]:\n",
    "            dfs(v, visited)\n",
    "            connected_components += 1\n",
    "\n",
    "    return connected_components\n",
    "\n",
    "print(count_connected_components(graph))  # Output: Number of connected components\n"
   ]
  },
  {
   "cell_type": "code",
   "execution_count": 13,
   "metadata": {},
   "outputs": [
    {
     "data": {
      "text/plain": [
       "([3, 4, 1, 5, 3, 2, 1, 1, 3, 3], 1, 5)"
      ]
     },
     "execution_count": 13,
     "metadata": {},
     "output_type": "execute_result"
    }
   ],
   "source": [
    "def node_degrees(graph):\n",
    "    num_vertices = len(graph)\n",
    "    degrees = [0] * num_vertices\n",
    "\n",
    "    for i in range(num_vertices):\n",
    "        for j in range(num_vertices):\n",
    "            if graph[i][j] == 1:\n",
    "                degrees[i] += 1\n",
    "\n",
    "    min_degree = min(degrees)\n",
    "    max_degree = max(degrees)\n",
    "\n",
    "    return degrees, min_degree, max_degree\n",
    "\n",
    "node_degrees(graph)"
   ]
  },
  {
   "cell_type": "code",
   "execution_count": 14,
   "metadata": {},
   "outputs": [
    {
     "data": {
      "text/plain": [
       "array([[46, 59, 14, 62, 30, 40,  5, 21, 38, 25],\n",
       "       [59, 36, 28, 88, 57, 28, 10, 14, 30, 27],\n",
       "       [14, 28,  2, 14,  6, 17,  2, 10, 19, 10],\n",
       "       [62, 88, 14, 58, 33, 58, 11, 37, 68, 30],\n",
       "       [30, 57,  6, 33, 24, 32,  9, 20, 47, 32],\n",
       "       [40, 28, 17, 58, 32, 22,  4, 11, 19, 16],\n",
       "       [ 5, 10,  2, 11,  9,  4,  2,  2,  9, 13],\n",
       "       [21, 14, 10, 37, 20, 11,  2,  4,  8, 11],\n",
       "       [38, 30, 19, 68, 47, 19,  9,  8, 26, 33],\n",
       "       [25, 27, 10, 30, 32, 16, 13, 11, 33, 20]])"
      ]
     },
     "execution_count": 14,
     "metadata": {},
     "output_type": "execute_result"
    }
   ],
   "source": [
    "matrix_power(graph, 5)"
   ]
  },
  {
   "cell_type": "markdown",
   "metadata": {},
   "source": [
    "# Small graph"
   ]
  },
  {
   "cell_type": "code",
   "execution_count": 21,
   "metadata": {},
   "outputs": [
    {
     "name": "stdout",
     "output_type": "stream",
     "text": [
      "n_edges=1030\n"
     ]
    }
   ],
   "source": [
    "def read_graph_from_file(filename):\n",
    "    graph = {}\n",
    "    n_edges = 0\n",
    "    with open(filename, 'r') as file:\n",
    "        for line in file:\n",
    "            n_edges += 1\n",
    "            u, v = map(int, line.strip().split())\n",
    "            if u not in graph:\n",
    "                graph[u] = []\n",
    "            graph[u].append(v)\n",
    "    print(f'n_edges={n_edges}')\n",
    "    return graph\n",
    "\n",
    "graph = read_graph_from_file('release_directed_graph.txt')"
   ]
  },
  {
   "cell_type": "code",
   "execution_count": 22,
   "metadata": {},
   "outputs": [
    {
     "data": {
      "text/plain": [
       "{0: [3, 10, 12, 25, 39, 50, 74, 76, 84, 87, 89, 96],\n",
       " 1: [4, 10, 13, 25, 29, 31, 33, 35, 74, 82],\n",
       " 2: [3, 4, 31, 38, 42, 44, 49, 66, 73, 75, 93],\n",
       " 3: [4, 12, 17, 24, 30, 31, 33, 53, 71, 94],\n",
       " 4: [3, 21, 24, 37, 46, 58, 60, 79, 81, 93, 97],\n",
       " 5: [6, 35, 89, 96],\n",
       " 6: [30, 33, 35, 50, 62, 80],\n",
       " 7: [35, 41, 51, 71, 74, 77, 79, 81, 88, 94],\n",
       " 8: [1, 34, 59, 61, 63, 66, 67, 82],\n",
       " 9: [10, 21, 27, 29, 38, 45, 48, 52, 61, 65, 84, 86, 93],\n",
       " 10: [7, 21, 52, 61, 83, 99],\n",
       " 11: [1, 19, 25, 36, 42, 52, 54, 56, 59, 77, 83, 84, 90, 94, 98],\n",
       " 12: [2, 10, 27, 28, 37, 42, 65, 80, 90, 94, 98],\n",
       " 13: [3, 21, 26, 35, 39, 40, 50, 53, 66, 74, 77, 81, 84, 97],\n",
       " 14: [0, 20, 28, 48, 52, 55, 57, 70, 78, 88, 91, 92, 95],\n",
       " 15: [8, 11, 12, 29, 34, 41, 71, 89, 90],\n",
       " 16: [18, 21, 36, 74, 83, 92],\n",
       " 17: [1, 5, 8, 10, 18, 28, 29, 32, 33, 45, 52, 55, 57, 60, 65, 80, 87, 88, 98],\n",
       " 18: [5, 6, 16, 23, 25, 32, 44, 58, 86, 93, 96],\n",
       " 19: [8, 10, 19, 31, 39, 50, 53, 74, 81, 84, 85, 94],\n",
       " 20: [11, 29, 34, 49, 63, 71, 79, 83, 89, 98, 99],\n",
       " 21: [4, 19, 23, 37, 52, 63, 69, 70, 96],\n",
       " 22: [2, 19, 46, 58, 59, 64, 74, 75, 78, 83, 86],\n",
       " 23: [7, 24, 30, 76, 98],\n",
       " 24: [0, 5, 11, 27, 35, 45, 59, 61],\n",
       " 25: [12, 21, 61, 72, 73, 90, 93],\n",
       " 26: [0, 2, 13, 20, 24, 36, 46, 47, 48, 50, 62, 63, 91],\n",
       " 27: [7, 25, 31, 53, 60, 65, 72, 76, 79, 89],\n",
       " 28: [6, 41, 43, 64, 67, 85, 95],\n",
       " 29: [0, 21, 39, 47, 48, 53, 66, 71, 77, 78, 79, 81, 89, 98],\n",
       " 30: [3, 4, 5, 24, 31, 61, 74, 77, 85, 97],\n",
       " 31: [30, 36, 77, 78, 79],\n",
       " 32: [8, 16, 20, 42, 57, 68, 69, 90],\n",
       " 33: [12, 15, 29, 32, 48, 52, 61, 82, 98],\n",
       " 34: [5, 15, 35, 40, 49, 50, 67, 68, 87],\n",
       " 35: [4, 8, 15, 19, 25, 34, 48, 68, 82, 93, 94],\n",
       " 36: [20, 33, 36, 44, 57, 66, 67, 71, 80, 85, 89, 95],\n",
       " 37: [19, 39, 44, 51, 69, 75, 81, 85, 89, 92],\n",
       " 38: [8, 16, 20, 24, 39, 71, 78, 96],\n",
       " 39: [16, 27, 30, 36, 39, 46, 51, 67, 87, 94, 95],\n",
       " 40: [17, 18, 19, 26, 34, 40, 41, 45, 53, 55, 70, 71, 76, 86],\n",
       " 41: [1, 2, 4, 13, 23, 25, 38, 51, 52, 73],\n",
       " 42: [7, 17, 19, 24, 26, 31, 33, 35, 45, 47, 78, 93, 94],\n",
       " 43: [0, 1, 10, 13, 28, 49, 61, 67, 68, 99],\n",
       " 44: [13, 27, 35, 47, 62, 68, 79, 84, 85, 87],\n",
       " 45: [10, 19, 20, 21, 26, 38, 39, 43, 48, 49, 73, 76, 82, 85, 86, 96],\n",
       " 46: [6, 14, 43, 69, 93],\n",
       " 47: [10, 11, 12, 17, 37, 40, 42, 59, 64, 74],\n",
       " 48: [43, 45, 46, 71, 75],\n",
       " 49: [2, 3, 9, 10, 11, 28, 31, 32, 36, 38, 53, 59, 60, 62, 85, 91],\n",
       " 50: [4, 6, 13, 21, 23, 45, 77, 79, 80, 98],\n",
       " 51: [4, 15, 18, 46, 63],\n",
       " 52: [2, 5, 14, 23, 25, 30, 56, 57, 64, 65, 74, 95, 99],\n",
       " 53: [15, 29, 30, 41, 42, 47, 56, 74, 94],\n",
       " 54: [60, 73, 81, 95, 97],\n",
       " 55: [43, 50, 60, 71, 84, 87, 88],\n",
       " 56: [18, 26, 28, 39, 51, 52, 57, 63, 77, 84, 88, 98],\n",
       " 57: [11, 17, 36, 43, 44, 48, 50, 54, 60, 61, 62, 69, 70, 77, 88, 89, 90],\n",
       " 58: [10, 19, 26, 41, 57, 79],\n",
       " 59: [0, 17, 26, 31, 50, 69, 80, 81],\n",
       " 60: [9, 13, 36, 37, 43, 67, 93],\n",
       " 61: [16, 21, 46, 83, 97, 99],\n",
       " 62: [11, 16, 18, 24, 33, 47, 65, 73, 90, 99],\n",
       " 63: [13, 20, 23, 29, 36, 37, 41, 55, 61, 69, 76, 78, 82, 86, 97, 99],\n",
       " 64: [25, 29, 30, 39, 52, 53, 64, 67, 69, 86, 91, 93, 96, 97],\n",
       " 65: [8, 9, 42, 46, 51, 55, 58, 59, 64, 72, 73, 80, 81, 97],\n",
       " 66: [0, 11, 18, 23, 40, 51, 64, 69, 70, 83, 95, 96],\n",
       " 67: [11, 26, 59, 75, 80, 87],\n",
       " 68: [8, 18, 21, 26, 45, 48, 63, 98],\n",
       " 69: [12, 22, 26, 36, 42, 67, 76, 77, 81, 88, 91],\n",
       " 70: [1, 11, 14, 20, 22, 41, 60, 61, 79, 82, 91, 93, 99],\n",
       " 71: [3, 14, 18, 33, 43, 45, 92, 95, 98],\n",
       " 72: [1, 11, 50, 59, 66, 74, 78, 97, 98],\n",
       " 73: [1, 11, 13, 27, 28, 39, 45, 51, 57, 60, 61, 74],\n",
       " 74: [9, 32, 56, 64, 76, 83, 97],\n",
       " 75: [1, 3, 32, 36, 43, 59, 63, 83, 95],\n",
       " 76: [8, 12, 29, 37, 46, 56, 64, 76, 83, 89, 96, 99],\n",
       " 77: [9, 12, 15, 27, 28, 29, 35, 42, 45, 79, 81, 88],\n",
       " 78: [29, 42, 53, 57, 58, 67],\n",
       " 79: [3, 7, 12, 14, 25, 37, 51, 71, 74, 76, 85],\n",
       " 80: [6, 22, 30, 48, 63, 81, 85, 90],\n",
       " 81: [7, 16, 18, 19, 28, 33, 38, 40, 45, 46, 78, 85, 94, 96],\n",
       " 82: [12, 30, 36, 37, 38, 42, 44, 53, 56, 65, 81, 85, 93],\n",
       " 83: [2, 5, 13, 16, 19, 28, 41, 44, 47, 57, 59, 73, 75, 76, 80, 90, 94],\n",
       " 84: [0, 6, 7, 11, 15, 23, 46, 58, 63, 67, 76, 89, 95, 96],\n",
       " 85: [3, 6, 24, 35, 57, 73, 89, 90, 98],\n",
       " 86: [8, 9, 11, 16, 23, 46, 48, 49, 51, 56, 60, 63, 69, 84, 86, 97],\n",
       " 87: [0, 5, 15, 25, 30, 37, 39, 50, 54, 63, 64, 75, 92],\n",
       " 88: [19, 21, 31, 36, 40, 54, 87, 88, 91, 93],\n",
       " 89: [16, 17, 23, 25, 26, 30, 36, 48, 59, 92],\n",
       " 90: [9, 17, 41, 42, 48, 53, 62, 79],\n",
       " 91: [0, 11, 12, 14, 19, 22, 25, 30, 38, 69, 76, 83, 96],\n",
       " 92: [21, 24, 33, 34, 40, 41, 42, 57, 64, 70, 88, 94, 98],\n",
       " 93: [9, 10, 23, 25, 53, 65, 69, 87, 89],\n",
       " 94: [11, 26, 37, 51, 65, 74],\n",
       " 95: [3, 9, 25, 28, 58, 59, 71, 81, 85, 91],\n",
       " 96: [7, 30, 39, 49, 55, 57, 58],\n",
       " 97: [0, 5, 18, 20, 49, 50, 57, 67, 68, 69, 70, 84, 92, 95, 99],\n",
       " 98: [1, 13, 17, 19, 28, 32, 35, 80, 95],\n",
       " 99: [1, 8, 22, 24, 36, 41, 60, 61, 62, 77, 81, 85]}"
      ]
     },
     "execution_count": 22,
     "metadata": {},
     "output_type": "execute_result"
    }
   ],
   "source": [
    "graph"
   ]
  },
  {
   "cell_type": "code",
   "execution_count": 23,
   "metadata": {},
   "outputs": [
    {
     "data": {
      "text/plain": [
       "100"
      ]
     },
     "execution_count": 23,
     "metadata": {},
     "output_type": "execute_result"
    }
   ],
   "source": [
    "len(graph.keys())"
   ]
  },
  {
   "cell_type": "code",
   "execution_count": 24,
   "metadata": {},
   "outputs": [],
   "source": [
    "def convert_to_adjacency_matrix(graph):\n",
    "    n_vertices = len(graph.keys())\n",
    "    adjacency_graph = [[0 for _ in range(n_vertices)] for _ in range(n_vertices)]\n",
    "    for k, v in graph.items():\n",
    "        for i in v:\n",
    "            adjacency_graph[k][i] = 1\n",
    "    return adjacency_graph\n",
    "\n",
    "graph = convert_to_adjacency_matrix(graph)"
   ]
  },
  {
   "cell_type": "code",
   "execution_count": 25,
   "metadata": {},
   "outputs": [
    {
     "data": {
      "text/plain": [
       "False"
      ]
     },
     "execution_count": 25,
     "metadata": {},
     "output_type": "execute_result"
    }
   ],
   "source": [
    "is_simple_graph(graph)"
   ]
  },
  {
   "cell_type": "markdown",
   "metadata": {},
   "source": [
    "## Check if a directed graph contains cycles"
   ]
  },
  {
   "cell_type": "markdown",
   "metadata": {},
   "source": [
    "To check if a directed graph contains cycles (excluding self-loops), we can use Depth-First Search (DFS). One effective algorithm for this purpose is Tarjan's algorithm, which finds strongly connected components (SCCs) in a graph. If any SCC contains more than one node, it means the graph contains a cycle."
   ]
  },
  {
   "cell_type": "code",
   "execution_count": 26,
   "metadata": {},
   "outputs": [
    {
     "name": "stdout",
     "output_type": "stream",
     "text": [
      "True\n"
     ]
    }
   ],
   "source": [
    "def has_directed_cycle(graph):\n",
    "    n = len(graph)\n",
    "    index = 0\n",
    "    stack = []\n",
    "    indices = [-1] * n\n",
    "    lowlink = [-1] * n\n",
    "    on_stack = [False] * n\n",
    "    result = []\n",
    "\n",
    "    def strongconnect(v):\n",
    "        nonlocal index\n",
    "        indices[v] = index\n",
    "        lowlink[v] = index\n",
    "        index += 1\n",
    "        stack.append(v)\n",
    "        on_stack[v] = True\n",
    "\n",
    "        for w in range(n):\n",
    "            if graph[v][w]:\n",
    "                if indices[w] == -1:\n",
    "                    strongconnect(w)\n",
    "                    lowlink[v] = min(lowlink[v], lowlink[w])\n",
    "                elif on_stack[w]:\n",
    "                    lowlink[v] = min(lowlink[v], indices[w])\n",
    "\n",
    "        if lowlink[v] == indices[v]:\n",
    "            scc = []\n",
    "            while True:\n",
    "                w = stack.pop()\n",
    "                on_stack[w] = False\n",
    "                scc.append(w)\n",
    "                if w == v:\n",
    "                    break\n",
    "            if len(scc) > 1:\n",
    "                result.append(scc)\n",
    "\n",
    "    for v in range(n):\n",
    "        if indices[v] == -1:\n",
    "            strongconnect(v)\n",
    "\n",
    "    return len(result) > 0\n",
    "\n",
    "has_directed_cycle(graph)\n"
   ]
  },
  {
   "cell_type": "code",
   "execution_count": null,
   "metadata": {},
   "outputs": [],
   "source": []
  }
 ],
 "metadata": {
  "kernelspec": {
   "display_name": "Python 3",
   "language": "python",
   "name": "python3"
  },
  "language_info": {
   "codemirror_mode": {
    "name": "ipython",
    "version": 3
   },
   "file_extension": ".py",
   "mimetype": "text/x-python",
   "name": "python",
   "nbconvert_exporter": "python",
   "pygments_lexer": "ipython3",
   "version": "3.9.6"
  }
 },
 "nbformat": 4,
 "nbformat_minor": 2
}
