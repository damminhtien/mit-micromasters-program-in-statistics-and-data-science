{
 "cells": [
  {
   "cell_type": "code",
   "execution_count": 2,
   "metadata": {},
   "outputs": [],
   "source": [
    "graph = [\n",
    "    [0, 1, 0, 1, 0, 1, 0, 0, 0, 0],\n",
    "    [1, 0, 1, 1, 1, 0, 0, 0, 0, 0],\n",
    "    [0, 1, 0, 0, 0, 0, 0, 0, 0, 0],\n",
    "    [1, 1, 0, 0, 0, 1, 0, 1, 1, 0],\n",
    "    [0, 1, 0, 0, 0, 0, 0, 0, 1, 1],\n",
    "    [1, 0, 0, 1, 0, 0, 0, 0, 0, 0],\n",
    "    [0, 0, 0, 0, 0, 0, 0, 0, 0, 1],\n",
    "    [0, 0, 0, 1, 0, 0, 0, 0, 0, 0],\n",
    "    [0, 0, 0, 1, 1, 0, 0, 0, 0, 1],\n",
    "    [0, 0, 0, 0, 1, 0, 1, 0, 1, 0]\n",
    "]"
   ]
  },
  {
   "cell_type": "code",
   "execution_count": 4,
   "metadata": {},
   "outputs": [
    {
     "data": {
      "text/plain": [
       "True"
      ]
     },
     "execution_count": 4,
     "metadata": {},
     "output_type": "execute_result"
    }
   ],
   "source": [
    "def is_simple_graph(graph):\n",
    "    n_vertices = len(graph)\n",
    "    for i in range(n_vertices):\n",
    "        if graph[i][i] == 1: # has_self_loop\n",
    "            return False\n",
    "    return True\n",
    "\n",
    "is_simple_graph(graph)"
   ]
  },
  {
   "cell_type": "code",
   "execution_count": 5,
   "metadata": {},
   "outputs": [
    {
     "data": {
      "text/plain": [
       "True"
      ]
     },
     "execution_count": 5,
     "metadata": {},
     "output_type": "execute_result"
    }
   ],
   "source": [
    "def is_undirected_graph(graph):\n",
    "    n_vertices = len(graph)\n",
    "    for i in range(n_vertices):\n",
    "        for j in range(n_vertices):\n",
    "            if graph[i][j] != graph[i][j]:\n",
    "                return False\n",
    "    return True\n",
    "\n",
    "is_undirected_graph(graph)"
   ]
  },
  {
   "cell_type": "code",
   "execution_count": 13,
   "metadata": {},
   "outputs": [
    {
     "name": "stdout",
     "output_type": "stream",
     "text": [
      "[0, 1, 3, 5, 7, 8, 4, 9, 6, 2]\n"
     ]
    },
    {
     "data": {
      "text/plain": [
       "True"
      ]
     },
     "execution_count": 13,
     "metadata": {},
     "output_type": "execute_result"
    }
   ],
   "source": [
    "def is_connected_graph_dfs(graph, start_vertex):\n",
    "    n_vertices = len(graph)\n",
    "    visited = [False]*n_vertices\n",
    "    n_visited = 1\n",
    "    s = [start_vertex]\n",
    "    visited[start_vertex] = True\n",
    "    visit_sequence = [start_vertex]\n",
    "    while len(s) > 0:\n",
    "        current_vertex = s.pop()\n",
    "        for i in range(n_vertices):\n",
    "            if visited[i] == True:\n",
    "                continue\n",
    "            else:\n",
    "                if graph[current_vertex][i] == 1:\n",
    "                    visited[i] = True\n",
    "                    s.append(i)\n",
    "                    n_visited += 1\n",
    "                    visit_sequence.append(i)\n",
    "    print(visit_sequence)\n",
    "    if n_visited < n_vertices:\n",
    "        return False\n",
    "    return True\n",
    "\n",
    "is_connected_graph_dfs(graph, 0)"
   ]
  },
  {
   "cell_type": "markdown",
   "metadata": {},
   "source": [
    "# min walk"
   ]
  },
  {
   "cell_type": "code",
   "execution_count": 14,
   "metadata": {},
   "outputs": [
    {
     "data": {
      "text/plain": [
       "4"
      ]
     },
     "execution_count": 14,
     "metadata": {},
     "output_type": "execute_result"
    }
   ],
   "source": [
    "import numpy as np\n",
    "\n",
    "def min_l_no_zero_entry(graph):\n",
    "    def matrix_power(A, power):\n",
    "        result = np.eye(len(A), dtype=int)\n",
    "        for _ in range(power):\n",
    "            result = np.dot(result, A)\n",
    "        return result\n",
    "\n",
    "    A = np.array(graph)\n",
    "    n = len(A)\n",
    "    \n",
    "    for l in range(1, n**2 + 1):\n",
    "        A_l = matrix_power(A, l)\n",
    "        if np.all(A_l > 0):\n",
    "            return l\n",
    "    \n",
    "    return -1\n",
    "\n",
    "min_l_no_zero_entry(graph)"
   ]
  },
  {
   "cell_type": "markdown",
   "metadata": {},
   "source": [
    "# modularity"
   ]
  },
  {
   "cell_type": "code",
   "execution_count": null,
   "metadata": {},
   "outputs": [],
   "source": [
    "import numpy as np\n",
    "\n",
    "def compute_modularity(adj_matrix, node_types):\n",
    "    n = len(adj_matrix)\n",
    "    degrees = np.sum(adj_matrix, axis=1)\n",
    "    m = np.sum(degrees) / 2\n",
    "    modularity = 0.0\n",
    "\n",
    "    for i in range(n):\n",
    "        for j in range(n):\n",
    "            if node_types[i] == node_types[j]:\n",
    "                modularity += adj_matrix[i][j] - (degrees[i] * degrees[j]) / (2 * m)\n",
    "    \n",
    "    modularity /= (2 * m)\n",
    "    return modularity\n",
    "\n",
    "# Adjacency matrix of the graph\n",
    "adj_matrix = [\n",
    "    [0, 1, 0, 1, 0, 1, 0, 0, 0, 0],\n",
    "    [1, 0, 1, 1, 1, 0, 0, 0, 0, 0],\n",
    "    [0, 1, 0, 0, 0, 0, 0, 0, 0, 0],\n",
    "    [1, 1, 0, 0, 0, 1, 0, 1, 1, 0],\n",
    "    [0, 1, 0, 0, 0, 0, 0, 0, 1, 1],\n",
    "    [1, 0, 0, 1, 0, 0, 0, 0, 0, 0],\n",
    "    [0, 0, 0, 0, 0, 0, 0, 0, 0, 1],\n",
    "    [0, 0, 0, 1, 0, 0, 0, 0, 0, 0],\n",
    "    [0, 0, 0, 1, 1, 0, 0, 0, 0, 1],\n",
    "    [0, 0, 0, 0, 1, 0, 1, 0, 1, 0]\n",
    "]\n",
    "\n",
    "# Node types\n",
    "node_types = [1, 2, 1, 2, 1, 2, 1, 2, 1, 2]\n",
    "\n",
    "# Compute modularity\n",
    "modularity = compute_modularity(adj_matrix, node_types)\n",
    "print(f\"Modularity: {modularity:.5f}\")"
   ]
  }
 ],
 "metadata": {
  "kernelspec": {
   "display_name": "Python 3",
   "language": "python",
   "name": "python3"
  },
  "language_info": {
   "codemirror_mode": {
    "name": "ipython",
    "version": 3
   },
   "file_extension": ".py",
   "mimetype": "text/x-python",
   "name": "python",
   "nbconvert_exporter": "python",
   "pygments_lexer": "ipython3",
   "version": "3.10.12"
  }
 },
 "nbformat": 4,
 "nbformat_minor": 2
}
